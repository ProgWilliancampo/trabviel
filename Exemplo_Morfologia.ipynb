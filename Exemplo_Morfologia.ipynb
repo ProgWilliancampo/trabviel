{
  " "nbformat": 4,// indica a versão principal do formato do notebook
  "nbformat_minor": 0,//  indica a versão secundária do formato do notebook
  "metadata": {//armazenar informaçoes
    "colab": {//serve para especificar metadados relacionados ao ambiente do Google Colab 
      "provenance": [],
  "nbformat_minor": 0,//  indica a versão secundária do formato do notebook
  "metadata": {//armazenar informaçoes
    "colab": {//serve para especificar metadados relacionados ao ambiente do Google Colab 
      "provenance": [],
      "include_colab_link": true
    },
    "kernelspec": {
      "name": "python3",
      "display_name": "Python 3"
    },
    "language_info": {//Nome da linguagem usada
      "name": "python"
    }
  },
  "cells": [//armazenar informaçoes
    {
      "cell_type": "markdown",// indica o tipo de célula 
      "metadata": {//armazenar informaçoes
        "id": "view-in-github",
        "colab_type": "text"//serve para especificar metadados relacionados ao ambiente do Google Colab 
      },
      "source": [//é onde está especificado o código fonte da célula
        "<a href=\"https://colab.research.google.com/github/VielF/ColabProjects/blob/main/Exemplo_Morfologia.ipynb\" target=\"_parent\"><img src=\"https://colab.research.google.com/assets/colab-badge.svg\" alt=\"Open In Colab\"/></a>"
      ]
    },
    {
      "cell_type": "markdown",armazenar informaçoes
      "source": [é onde está especificado o código fonte da célula
        "Universidade do Vale do Itajaí<br>\n",  Nome da Faculdade
        "Escola do Mar, Ciência e Tecnologia<br>\n", 
        "Professor Felipe Viel\n",  Professor
        "\n",
        " Exemplo Morfologia\n",
        "\n",
        " Tutoriais da OpenCV\n",
        "\n",
        "- https://docs.opencv.org/master/d9/df8/tutorial_root.html\n", // abrir documento
        "- https://www.geeksforgeeks.org/opencv-python-tutorial/" // abrir site
      ],
      "metadata": {//armazenar informaçoes
        "id": "hs7F3RjrUjCH"
      }
    },
    {
      "cell_type": "code",// indica o tipo de célula 
      "execution_count": null,//Contar numero de vezes que foi executado
      "metadata": {//armazenar informaçoes
        "id": "9ieiSWN_Uh5b"
      },
      "outputs": [],//usado para armazenar os resultados da execução de uma célula 
      "source": [//é onde está especificado o código fonte da célula
        "//from https://opencv-python-tutroals.readthedocs.io/en/latest/py_tutorials/py_imgproc/py_morphological_ops/py_morphological_ops.html\n",
        "import cv2\n",// Importa as bibliotecas 
        "import numpy as np\n",// Importa as bibliotecas 
        "//caso for usar o Google Colab com a OpenCV, usar a lib abaixo\n",
        "from google.colab.patches import cv2_imshow\n"
      ]
    },
    {
      "cell_type": "code",// indica o tipo de célula 
      "source": [//é onde está especificado o código fonte da célula
        "img = cv2.imread('j.png',0)\n", // Imagem original
        "img_opening = cv2.imread('j_ruido.png',0)\n",// Usa para carregar as imagens
        "img_closing = cv2.imread('j_furos.png',0)\n",// Usa para carregar as imagens
        "altura, largura = img.shape\n",//define altura e largura da imagem
        "kernel = np.ones((5,5),np.uint8)\n",// Definir o kernel
        "print(kernel)"
      ],
      "metadata": {//armazenar informaçoes
        "id": "8whvZbKhU03S"
      },
      "execution_count": null,//Contar numero de vezes que foi executado
      "outputs": []//usado para armazenar os resultados da execução de uma célula 
    },
    {
      "cell_type": "code",// indica o tipo de célula 
      "source": [//é onde está especificado o código fonte da célula
        "erosion = cv2.erode(img,kernel,iterations = 2)\n",// Aplicar a erosão 
        "dilation = cv2.dilate(img,kernel,iterations = 2)"// Aplicar a dilatação
      ],
      "metadata": {//armazenar informaçoes
        "id": "RnKcRcjsU8VP"
      },
      "execution_count": null,//Contar numero de vezes que foi executado
      "outputs": []//usado para armazenar os resultados da execução de uma célula 
    },
    {
      "cell_type": "code",// indica o tipo de célula 
      "source": [//é onde está especificado o código fonte da célula
        "gradient = cv2.morphologyEx(img, cv2.MORPH_GRADIENT, kernel)\n",// Aplicar o gradiente, fechamento e a abertura
        "opening = cv2.morphologyEx(img_opening, cv2.MORPH_OPEN, kernel)\n",// Aplicar o gradiente, fechamento e a abertura
        "closing = cv2.morphologyEx(img_closing, cv2.MORPH_CLOSE, kernel)"// Aplicar o gradiente, fechamento e a abertura
      ],
      "metadata": {//armazenar informaçoes
        "id": "WvTtlQWJU-tz"
      },
      "execution_count": null,//Contar numero de vezes que foi executado
      "outputs": []//usado para armazenar os resultados da execução de uma célula 
    },
    {
      "cell_type": "code",// indica o tipo de célula 
      "source": [//é onde está especificado o código fonte da célula
        "'''\n",// Exibi as imagens 
        "//Caso usa com Python no próprio computador\n",
        "cv2.imshow('in', img)\n",
        "cv2.imshow('erosion_out', erosion)\n",
        "cv2.imshow('dilation_out', dilation)\n",
        "cv2.imshow('opening_out', opening)\n",
        "cv2.imshow('closing_out', closing)\n",
        "cv2.imshow('gradient_out', gradient)\n",
        "'''\n",
        "//Caso use o Google Colab\n",
        "cv2_imshow(img)\n",
        "cv2_imshow(erosion)\n",
        "cv2_imshow(dilation)\n",
        "cv2_imshow(opening)\n",
        "cv2_imshow(closing)\n",
        "cv2_imshow(gradient)"
      ],
      "metadata": {//armazenar informaçoes
        "id": "iMJ7o6EgVA_r"
      },
      "execution_count": null,//Contar numero de vezes que foi executado
      "outputs": []//usado para armazenar os resultados da execução de uma célula 
    }
  ]
}
